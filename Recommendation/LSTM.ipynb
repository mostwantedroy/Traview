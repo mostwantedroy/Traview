{
 "cells": [
  {
   "cell_type": "code",
   "execution_count": 2,
   "metadata": {},
   "outputs": [],
   "source": [
    "import warnings, re\n",
    "warnings.filterwarnings(action='ignore')"
   ]
  },
  {
   "cell_type": "code",
   "execution_count": 3,
   "metadata": {
    "colab": {
     "base_uri": "https://localhost:8080/",
     "height": 527
    },
    "colab_type": "code",
    "id": "Tv0W08C3mpr0",
    "outputId": "591d2194-f77b-4969-a72a-df64a6232195"
   },
   "outputs": [
    {
     "data": {
      "text/html": [
       "<div>\n",
       "<style scoped>\n",
       "    .dataframe tbody tr th:only-of-type {\n",
       "        vertical-align: middle;\n",
       "    }\n",
       "\n",
       "    .dataframe tbody tr th {\n",
       "        vertical-align: top;\n",
       "    }\n",
       "\n",
       "    .dataframe thead th {\n",
       "        text-align: right;\n",
       "    }\n",
       "</style>\n",
       "<table border=\"1\" class=\"dataframe\">\n",
       "  <thead>\n",
       "    <tr style=\"text-align: right;\">\n",
       "      <th></th>\n",
       "      <th>review_num</th>\n",
       "      <th>id</th>\n",
       "      <th>user</th>\n",
       "      <th>star</th>\n",
       "      <th>month</th>\n",
       "      <th>review</th>\n",
       "      <th>keyword1</th>\n",
       "      <th>keyword2</th>\n",
       "      <th>keyword3</th>\n",
       "    </tr>\n",
       "  </thead>\n",
       "  <tbody>\n",
       "    <tr>\n",
       "      <th>0</th>\n",
       "      <td>1</td>\n",
       "      <td>1169465</td>\n",
       "      <td>Cyril Grace R</td>\n",
       "      <td>50</td>\n",
       "      <td>November</td>\n",
       "      <td>this place had 360 degree vies of seoul.best t...</td>\n",
       "      <td>NaN</td>\n",
       "      <td>NaN</td>\n",
       "      <td>NaN</td>\n",
       "    </tr>\n",
       "    <tr>\n",
       "      <th>1</th>\n",
       "      <td>2</td>\n",
       "      <td>553546</td>\n",
       "      <td>Cyril Grace R</td>\n",
       "      <td>50</td>\n",
       "      <td>January</td>\n",
       "      <td>best place for shopping. suggested time is aft...</td>\n",
       "      <td>NaN</td>\n",
       "      <td>NaN</td>\n",
       "      <td>NaN</td>\n",
       "    </tr>\n",
       "    <tr>\n",
       "      <th>2</th>\n",
       "      <td>3</td>\n",
       "      <td>324888</td>\n",
       "      <td>Cyril Grace R</td>\n",
       "      <td>50</td>\n",
       "      <td>January</td>\n",
       "      <td>i love this palace especially the change of gu...</td>\n",
       "      <td>NaN</td>\n",
       "      <td>NaN</td>\n",
       "      <td>NaN</td>\n",
       "    </tr>\n",
       "    <tr>\n",
       "      <th>3</th>\n",
       "      <td>4</td>\n",
       "      <td>1169465</td>\n",
       "      <td>Blossom</td>\n",
       "      <td>50</td>\n",
       "      <td>May</td>\n",
       "      <td>The Korean Drama that left the biggest impact ...</td>\n",
       "      <td>NaN</td>\n",
       "      <td>NaN</td>\n",
       "      <td>NaN</td>\n",
       "    </tr>\n",
       "    <tr>\n",
       "      <th>4</th>\n",
       "      <td>5</td>\n",
       "      <td>1169465</td>\n",
       "      <td>Kens</td>\n",
       "      <td>40</td>\n",
       "      <td>January</td>\n",
       "      <td>I went to Namsan on my first day at Seoul. I w...</td>\n",
       "      <td>NaN</td>\n",
       "      <td>NaN</td>\n",
       "      <td>NaN</td>\n",
       "    </tr>\n",
       "  </tbody>\n",
       "</table>\n",
       "</div>"
      ],
      "text/plain": [
       "   review_num       id           user  star      month  \\\n",
       "0           1  1169465  Cyril Grace R    50   November   \n",
       "1           2   553546  Cyril Grace R    50    January   \n",
       "2           3   324888  Cyril Grace R    50    January   \n",
       "3           4  1169465        Blossom    50        May   \n",
       "4           5  1169465           Kens    40    January   \n",
       "\n",
       "                                              review  keyword1  keyword2  \\\n",
       "0  this place had 360 degree vies of seoul.best t...       NaN       NaN   \n",
       "1  best place for shopping. suggested time is aft...       NaN       NaN   \n",
       "2  i love this palace especially the change of gu...       NaN       NaN   \n",
       "3  The Korean Drama that left the biggest impact ...       NaN       NaN   \n",
       "4  I went to Namsan on my first day at Seoul. I w...       NaN       NaN   \n",
       "\n",
       "   keyword3  \n",
       "0       NaN  \n",
       "1       NaN  \n",
       "2       NaN  \n",
       "3       NaN  \n",
       "4       NaN  "
      ]
     },
     "execution_count": 3,
     "metadata": {},
     "output_type": "execute_result"
    }
   ],
   "source": [
    "import pandas as pd\n",
    "data = pd.read_csv('C:/Python/review_table.csv',encoding='utf-8')\n",
    "data.head()"
   ]
  },
  {
   "cell_type": "code",
   "execution_count": 4,
   "metadata": {
    "colab": {
     "base_uri": "https://localhost:8080/",
     "height": 402
    },
    "colab_type": "code",
    "id": "rTQvVMyUMkXa",
    "outputId": "46d80214-140b-4bb8-ca9a-d51f825a5517"
   },
   "outputs": [
    {
     "data": {
      "text/html": [
       "<div>\n",
       "<style scoped>\n",
       "    .dataframe tbody tr th:only-of-type {\n",
       "        vertical-align: middle;\n",
       "    }\n",
       "\n",
       "    .dataframe tbody tr th {\n",
       "        vertical-align: top;\n",
       "    }\n",
       "\n",
       "    .dataframe thead th {\n",
       "        text-align: right;\n",
       "    }\n",
       "</style>\n",
       "<table border=\"1\" class=\"dataframe\">\n",
       "  <thead>\n",
       "    <tr style=\"text-align: right;\">\n",
       "      <th></th>\n",
       "      <th>review_num</th>\n",
       "      <th>id</th>\n",
       "      <th>user</th>\n",
       "      <th>star</th>\n",
       "      <th>month</th>\n",
       "      <th>review</th>\n",
       "      <th>impression</th>\n",
       "      <th>mood</th>\n",
       "      <th>cost</th>\n",
       "    </tr>\n",
       "  </thead>\n",
       "  <tbody>\n",
       "    <tr>\n",
       "      <th>0</th>\n",
       "      <td>1</td>\n",
       "      <td>1169465</td>\n",
       "      <td>Cyril Grace R</td>\n",
       "      <td>50</td>\n",
       "      <td>November</td>\n",
       "      <td>this place had 360 degree vies of seoul.best t...</td>\n",
       "      <td>NaN</td>\n",
       "      <td>NaN</td>\n",
       "      <td>NaN</td>\n",
       "    </tr>\n",
       "    <tr>\n",
       "      <th>1</th>\n",
       "      <td>2</td>\n",
       "      <td>553546</td>\n",
       "      <td>Cyril Grace R</td>\n",
       "      <td>50</td>\n",
       "      <td>January</td>\n",
       "      <td>best place for shopping. suggested time is aft...</td>\n",
       "      <td>NaN</td>\n",
       "      <td>NaN</td>\n",
       "      <td>NaN</td>\n",
       "    </tr>\n",
       "    <tr>\n",
       "      <th>2</th>\n",
       "      <td>3</td>\n",
       "      <td>324888</td>\n",
       "      <td>Cyril Grace R</td>\n",
       "      <td>50</td>\n",
       "      <td>January</td>\n",
       "      <td>i love this palace especially the change of gu...</td>\n",
       "      <td>NaN</td>\n",
       "      <td>NaN</td>\n",
       "      <td>NaN</td>\n",
       "    </tr>\n",
       "    <tr>\n",
       "      <th>3</th>\n",
       "      <td>4</td>\n",
       "      <td>1169465</td>\n",
       "      <td>Blossom</td>\n",
       "      <td>50</td>\n",
       "      <td>May</td>\n",
       "      <td>The Korean Drama that left the biggest impact ...</td>\n",
       "      <td>NaN</td>\n",
       "      <td>NaN</td>\n",
       "      <td>NaN</td>\n",
       "    </tr>\n",
       "    <tr>\n",
       "      <th>4</th>\n",
       "      <td>5</td>\n",
       "      <td>1169465</td>\n",
       "      <td>Kens</td>\n",
       "      <td>40</td>\n",
       "      <td>January</td>\n",
       "      <td>I went to Namsan on my first day at Seoul. I w...</td>\n",
       "      <td>NaN</td>\n",
       "      <td>NaN</td>\n",
       "      <td>NaN</td>\n",
       "    </tr>\n",
       "  </tbody>\n",
       "</table>\n",
       "</div>"
      ],
      "text/plain": [
       "   review_num       id           user  star      month  \\\n",
       "0           1  1169465  Cyril Grace R    50   November   \n",
       "1           2   553546  Cyril Grace R    50    January   \n",
       "2           3   324888  Cyril Grace R    50    January   \n",
       "3           4  1169465        Blossom    50        May   \n",
       "4           5  1169465           Kens    40    January   \n",
       "\n",
       "                                              review  impression  mood  cost  \n",
       "0  this place had 360 degree vies of seoul.best t...         NaN   NaN   NaN  \n",
       "1  best place for shopping. suggested time is aft...         NaN   NaN   NaN  \n",
       "2  i love this palace especially the change of gu...         NaN   NaN   NaN  \n",
       "3  The Korean Drama that left the biggest impact ...         NaN   NaN   NaN  \n",
       "4  I went to Namsan on my first day at Seoul. I w...         NaN   NaN   NaN  "
      ]
     },
     "execution_count": 4,
     "metadata": {},
     "output_type": "execute_result"
    }
   ],
   "source": [
    "data.columns = ['review_num', 'id', 'user', 'star', 'month', 'review', 'impression' ,'mood', 'cost']\n",
    "data.head()"
   ]
  },
  {
   "cell_type": "code",
   "execution_count": 5,
   "metadata": {
    "colab": {
     "base_uri": "https://localhost:8080/",
     "height": 195
    },
    "colab_type": "code",
    "id": "4LULfuJnYbai",
    "outputId": "b5331367-a93c-43ca-cbd4-92be3fc98dff"
   },
   "outputs": [
    {
     "data": {
      "text/html": [
       "<div>\n",
       "<style scoped>\n",
       "    .dataframe tbody tr th:only-of-type {\n",
       "        vertical-align: middle;\n",
       "    }\n",
       "\n",
       "    .dataframe tbody tr th {\n",
       "        vertical-align: top;\n",
       "    }\n",
       "\n",
       "    .dataframe thead th {\n",
       "        text-align: right;\n",
       "    }\n",
       "</style>\n",
       "<table border=\"1\" class=\"dataframe\">\n",
       "  <thead>\n",
       "    <tr style=\"text-align: right;\">\n",
       "      <th></th>\n",
       "      <th>review_num</th>\n",
       "      <th>id</th>\n",
       "      <th>user</th>\n",
       "      <th>star</th>\n",
       "      <th>month</th>\n",
       "      <th>review</th>\n",
       "      <th>impression</th>\n",
       "      <th>mood</th>\n",
       "      <th>cost</th>\n",
       "    </tr>\n",
       "  </thead>\n",
       "  <tbody>\n",
       "    <tr>\n",
       "      <th>0</th>\n",
       "      <td>2216</td>\n",
       "      <td>320359</td>\n",
       "      <td>WandeReen</td>\n",
       "      <td>30</td>\n",
       "      <td>February</td>\n",
       "      <td>Great place to visit for the historical feel a...</td>\n",
       "      <td>NaN</td>\n",
       "      <td>NaN</td>\n",
       "      <td>NaN</td>\n",
       "    </tr>\n",
       "    <tr>\n",
       "      <th>1</th>\n",
       "      <td>2234</td>\n",
       "      <td>320359</td>\n",
       "      <td>Itay V</td>\n",
       "      <td>40</td>\n",
       "      <td>November</td>\n",
       "      <td>A beautiful palace, ine of the nicest in Seoul...</td>\n",
       "      <td>NaN</td>\n",
       "      <td>NaN</td>\n",
       "      <td>NaN</td>\n",
       "    </tr>\n",
       "    <tr>\n",
       "      <th>2</th>\n",
       "      <td>2233</td>\n",
       "      <td>320359</td>\n",
       "      <td>Huei W</td>\n",
       "      <td>40</td>\n",
       "      <td>November</td>\n",
       "      <td>Secret garden for the Palace is totally recomm...</td>\n",
       "      <td>NaN</td>\n",
       "      <td>NaN</td>\n",
       "      <td>NaN</td>\n",
       "    </tr>\n",
       "    <tr>\n",
       "      <th>3</th>\n",
       "      <td>2231</td>\n",
       "      <td>320359</td>\n",
       "      <td>Exceeding_Joy</td>\n",
       "      <td>40</td>\n",
       "      <td>October</td>\n",
       "      <td>This tour includes a guided tour of the palace...</td>\n",
       "      <td>NaN</td>\n",
       "      <td>NaN</td>\n",
       "      <td>NaN</td>\n",
       "    </tr>\n",
       "    <tr>\n",
       "      <th>4</th>\n",
       "      <td>2070</td>\n",
       "      <td>320359</td>\n",
       "      <td>Ian K</td>\n",
       "      <td>40</td>\n",
       "      <td>October</td>\n",
       "      <td>Like Gyeongbokgung Palace, my wife and I been ...</td>\n",
       "      <td>NaN</td>\n",
       "      <td>NaN</td>\n",
       "      <td>NaN</td>\n",
       "    </tr>\n",
       "  </tbody>\n",
       "</table>\n",
       "</div>"
      ],
      "text/plain": [
       "   review_num      id           user  star      month  \\\n",
       "0        2216  320359      WandeReen    30   February   \n",
       "1        2234  320359         Itay V    40   November   \n",
       "2        2233  320359         Huei W    40   November   \n",
       "3        2231  320359  Exceeding_Joy    40    October   \n",
       "4        2070  320359          Ian K    40    October   \n",
       "\n",
       "                                              review  impression  mood  cost  \n",
       "0  Great place to visit for the historical feel a...         NaN   NaN   NaN  \n",
       "1  A beautiful palace, ine of the nicest in Seoul...         NaN   NaN   NaN  \n",
       "2  Secret garden for the Palace is totally recomm...         NaN   NaN   NaN  \n",
       "3  This tour includes a guided tour of the palace...         NaN   NaN   NaN  \n",
       "4  Like Gyeongbokgung Palace, my wife and I been ...         NaN   NaN   NaN  "
      ]
     },
     "execution_count": 5,
     "metadata": {},
     "output_type": "execute_result"
    }
   ],
   "source": [
    "# ascending=False 하면 내림차순\n",
    "data = data.sort_values(by=['id'], axis=0, ascending = True)\n",
    "\n",
    "# 2) index reset하기\n",
    "data = data.reset_index(drop=True)\n",
    "data.head()"
   ]
  },
  {
   "cell_type": "code",
   "execution_count": 6,
   "metadata": {
    "colab": {},
    "colab_type": "code",
    "id": "cVikn3HzWb_L"
   },
   "outputs": [],
   "source": [
    "impression = [ 'friendly','modern','fun', 'local','traditional', 'beautiful','amazing', 'accessible', \n",
    "             'interesting','historical','peaceful','eastern','disappointing','dirt','memorial',\n",
    "         'lovely','nice','ceremonial', 'typical', 'cheerful',  'unbelievable','extraordinary',\n",
    "         'brilliant','unforgettable','exotic', 'enjoyable', 'energetic','excellent','special','tough',\n",
    "         'convenient','confortable','thoughtful','spectacular', 'diverse','disappointed', \n",
    "          'stimulating','innovative','instagramable',  'photogenic','pleasant','likely','organized',\n",
    "         'manicured','incredible','impressive', 'foggy','satisfied', 'unique','funny','futuristic',\n",
    "         'romantic', 'famous','fantastic','rare','historic', 'horrible', 'reasonable','ideal','hot',\n",
    "          'glorious', 'renowned','happy','wooden','weird','vigorous','awful','archaeological',\n",
    "         'virtual','young','best','wonderful','warm','walkable','awesome','rural']\n",
    "\n",
    "cost = ['free','expensive', 'cheap','luxurious','worth']\n",
    "\n",
    "mood = ['vast','extra','worthy', 'big','ultra','extensive','smallish','magnificent', 'huge','colorful',\n",
    "        'gothic', 'artistic', 'upper','beauty','affordable', 'wide','pretty']"
   ]
  },
  {
   "cell_type": "code",
   "execution_count": 7,
   "metadata": {
    "colab": {
     "base_uri": "https://localhost:8080/",
     "height": 34
    },
    "colab_type": "code",
    "id": "wvlWfMlcWb8h",
    "outputId": "dd58684a-4684-4a08-f8c2-8f2421a2954f"
   },
   "outputs": [],
   "source": [
    "import pandas as pd, numpy as np\n",
    "mindmap = {}\n",
    "mindmap[\"impression\"] = impression\n",
    "mindmap[\"cost\"] = cost\n",
    "mindmap[\"mood\"] = mood"
   ]
  },
  {
   "cell_type": "code",
   "execution_count": 8,
   "metadata": {
    "colab": {
     "base_uri": "https://localhost:8080/",
     "height": 54
    },
    "colab_type": "code",
    "id": "1fV94orZy5QP",
    "outputId": "91e8d3c9-07da-4afa-fd81-818bdd45289e"
   },
   "outputs": [
    {
     "name": "stdout",
     "output_type": "stream",
     "text": [
      "['free', 'expensive', 'cheap', 'luxurious', 'worth']\n"
     ]
    }
   ],
   "source": [
    "print(mindmap['cost'])"
   ]
  },
  {
   "cell_type": "code",
   "execution_count": 9,
   "metadata": {},
   "outputs": [],
   "source": [
    "idlist=list(data['id'].unique())\n",
    "idlist.sort()"
   ]
  },
  {
   "cell_type": "code",
   "execution_count": 10,
   "metadata": {},
   "outputs": [
    {
     "name": "stdout",
     "output_type": "stream",
     "text": [
      "[320359, 324887, 324888, 324891, 324907, 325043, 502576, 553213, 553246, 553546, 554528, 554533, 554537, 554551, 554582, 554634, 561808, 590748, 592484, 592486, 592490, 592495, 592506, 592508, 592658, 598499, 609340, 1046419, 1169465, 1235392, 1379963, 1489411, 1519813, 1549822, 1551271, 1552278, 1554603, 1579821, 1604009, 1643534, 1675961, 1758805, 1761206, 1809989, 1862191, 1868571, 1957627, 1958940, 1960138, 1962594, 1990451, 2008729, 2011401, 2014599, 2041648, 2092468, 2094166, 2203080, 2293568, 2293574, 2341867, 2341905, 2341922, 2367750, 2367771, 2476788, 2519674, 2571660, 3295622, 3568803, 3600495, 3670803, 3694519, 3805397, 3808315, 3821928, 3871936, 3901164, 3901265, 3901448, 3957040, 4084344, 4084386, 4094861, 4095685, 4096021, 4427670, 4798698, 4798711, 4798715, 5924606, 5924658, 6509932, 6656879, 6671988, 6847826, 6847900, 6960656, 7028449, 7060791, 7264192, 7376481, 7717373, 7891946, 8029083, 8077282, 8842556, 9796296, 10020511, 10020529, 10020530, 10725552, 10813620, 11928572, 12049435, 12309166, 12416134, 12459260, 12518697, 15306289, 17124032]\n"
     ]
    }
   ],
   "source": [
    "print(idlist)"
   ]
  },
  {
   "cell_type": "code",
   "execution_count": 11,
   "metadata": {
    "colab": {},
    "colab_type": "code",
    "id": "wbGHwpXwwDxN"
   },
   "outputs": [],
   "source": [
    "import nltk, re\n",
    "from nltk import word_tokenize\n",
    "\n",
    "from nltk.corpus import stopwords\n",
    "stop_words = set(stopwords.words('english'))\n",
    "stop_words.update(['zero','one','two','three','four','five','six','seven','eight','nine','ten','may','also','across','among','beside','however','yet','within'])\n",
    "re_stop_words = re.compile(r\"\\b(\" + \"|\".join(stop_words) + \")\\\\W\", re.I)\n",
    "\n",
    "def removeStopWords(sentence):\n",
    "    global re_stop_words\n",
    "    return re_stop_words.sub(\" \", sentence)\n",
    "\n",
    "def cleanText(readData):\n",
    " \n",
    "    #텍스트에 포함되어 있는 특수 문자 제거\n",
    " \n",
    "    text = re.sub('[-=+,#/\\?:^$.@*\\\"※~&%ㆍ!』\\\\‘|\\(\\)\\[\\]\\<\\>`\\'…》]', '', readData)\n",
    " \n",
    "    return text"
   ]
  },
  {
   "cell_type": "code",
   "execution_count": 12,
   "metadata": {},
   "outputs": [],
   "source": [
    "data['token'] = list(map(cleanText, data['review']))\n",
    "data['token'] = list(map(removeStopWords, data['token']))\n",
    "data['token'] = list(map(word_tokenize, data['token']))\n",
    "#data['token'] = list(map(removePunc, data['token']))"
   ]
  },
  {
   "cell_type": "code",
   "execution_count": 13,
   "metadata": {
    "colab": {
     "base_uri": "https://localhost:8080/",
     "height": 54
    },
    "colab_type": "code",
    "id": "ltpArdwxb6qe",
    "outputId": "55fd2f6c-d49a-4a5c-9b5f-9f20ac6c6d19"
   },
   "outputs": [
    {
     "data": {
      "text/html": [
       "<div>\n",
       "<style scoped>\n",
       "    .dataframe tbody tr th:only-of-type {\n",
       "        vertical-align: middle;\n",
       "    }\n",
       "\n",
       "    .dataframe tbody tr th {\n",
       "        vertical-align: top;\n",
       "    }\n",
       "\n",
       "    .dataframe thead th {\n",
       "        text-align: right;\n",
       "    }\n",
       "</style>\n",
       "<table border=\"1\" class=\"dataframe\">\n",
       "  <thead>\n",
       "    <tr style=\"text-align: right;\">\n",
       "      <th></th>\n",
       "      <th>review_num</th>\n",
       "      <th>id</th>\n",
       "      <th>user</th>\n",
       "      <th>star</th>\n",
       "      <th>month</th>\n",
       "      <th>review</th>\n",
       "      <th>impression</th>\n",
       "      <th>mood</th>\n",
       "      <th>cost</th>\n",
       "      <th>token</th>\n",
       "    </tr>\n",
       "  </thead>\n",
       "  <tbody>\n",
       "    <tr>\n",
       "      <th>0</th>\n",
       "      <td>2216</td>\n",
       "      <td>320359</td>\n",
       "      <td>WandeReen</td>\n",
       "      <td>30</td>\n",
       "      <td>February</td>\n",
       "      <td>Great place to visit for the historical feel a...</td>\n",
       "      <td>NaN</td>\n",
       "      <td>NaN</td>\n",
       "      <td>NaN</td>\n",
       "      <td>[Great, place, visit, historical, feel, explor...</td>\n",
       "    </tr>\n",
       "    <tr>\n",
       "      <th>1</th>\n",
       "      <td>2234</td>\n",
       "      <td>320359</td>\n",
       "      <td>Itay V</td>\n",
       "      <td>40</td>\n",
       "      <td>November</td>\n",
       "      <td>A beautiful palace, ine of the nicest in Seoul...</td>\n",
       "      <td>NaN</td>\n",
       "      <td>NaN</td>\n",
       "      <td>NaN</td>\n",
       "      <td>[beautiful, palace, ine, nicest, Seoul, many, ...</td>\n",
       "    </tr>\n",
       "    <tr>\n",
       "      <th>2</th>\n",
       "      <td>2233</td>\n",
       "      <td>320359</td>\n",
       "      <td>Huei W</td>\n",
       "      <td>40</td>\n",
       "      <td>November</td>\n",
       "      <td>Secret garden for the Palace is totally recomm...</td>\n",
       "      <td>NaN</td>\n",
       "      <td>NaN</td>\n",
       "      <td>NaN</td>\n",
       "      <td>[Secret, garden, Palace, totally, recommended,...</td>\n",
       "    </tr>\n",
       "    <tr>\n",
       "      <th>3</th>\n",
       "      <td>2231</td>\n",
       "      <td>320359</td>\n",
       "      <td>Exceeding_Joy</td>\n",
       "      <td>40</td>\n",
       "      <td>October</td>\n",
       "      <td>This tour includes a guided tour of the palace...</td>\n",
       "      <td>NaN</td>\n",
       "      <td>NaN</td>\n",
       "      <td>NaN</td>\n",
       "      <td>[tour, includes, guided, tour, palace, grounds...</td>\n",
       "    </tr>\n",
       "    <tr>\n",
       "      <th>4</th>\n",
       "      <td>2070</td>\n",
       "      <td>320359</td>\n",
       "      <td>Ian K</td>\n",
       "      <td>40</td>\n",
       "      <td>October</td>\n",
       "      <td>Like Gyeongbokgung Palace, my wife and I been ...</td>\n",
       "      <td>NaN</td>\n",
       "      <td>NaN</td>\n",
       "      <td>NaN</td>\n",
       "      <td>[Like, Gyeongbokgung, Palace, wife, day, Chang...</td>\n",
       "    </tr>\n",
       "  </tbody>\n",
       "</table>\n",
       "</div>"
      ],
      "text/plain": [
       "   review_num      id           user  star      month  \\\n",
       "0        2216  320359      WandeReen    30   February   \n",
       "1        2234  320359         Itay V    40   November   \n",
       "2        2233  320359         Huei W    40   November   \n",
       "3        2231  320359  Exceeding_Joy    40    October   \n",
       "4        2070  320359          Ian K    40    October   \n",
       "\n",
       "                                              review  impression  mood  cost  \\\n",
       "0  Great place to visit for the historical feel a...         NaN   NaN   NaN   \n",
       "1  A beautiful palace, ine of the nicest in Seoul...         NaN   NaN   NaN   \n",
       "2  Secret garden for the Palace is totally recomm...         NaN   NaN   NaN   \n",
       "3  This tour includes a guided tour of the palace...         NaN   NaN   NaN   \n",
       "4  Like Gyeongbokgung Palace, my wife and I been ...         NaN   NaN   NaN   \n",
       "\n",
       "                                               token  \n",
       "0  [Great, place, visit, historical, feel, explor...  \n",
       "1  [beautiful, palace, ine, nicest, Seoul, many, ...  \n",
       "2  [Secret, garden, Palace, totally, recommended,...  \n",
       "3  [tour, includes, guided, tour, palace, grounds...  \n",
       "4  [Like, Gyeongbokgung, Palace, wife, day, Chang...  "
      ]
     },
     "execution_count": 13,
     "metadata": {},
     "output_type": "execute_result"
    }
   ],
   "source": [
    "data.head()"
   ]
  },
  {
   "cell_type": "code",
   "execution_count": 14,
   "metadata": {},
   "outputs": [],
   "source": [
    "data['label'] = None"
   ]
  },
  {
   "cell_type": "code",
   "execution_count": 15,
   "metadata": {
    "scrolled": true
   },
   "outputs": [],
   "source": [
    "for i in range(len(data['token'])):\n",
    "    tag = []\n",
    "    for word in data['token'][i]:\n",
    "        if word in mindmap['impression']:\n",
    "            tag.append(\"B-Impression\")\n",
    "        elif word in mindmap['cost']:\n",
    "            tag.append(\"B-Cost\")\n",
    "        elif word in mindmap['mood']:\n",
    "            tag.append(\"B-Mood\")\n",
    "        else:\n",
    "            tag.append(\"O\")\n",
    "    data['label'][i] = tag"
   ]
  },
  {
   "cell_type": "code",
   "execution_count": 16,
   "metadata": {},
   "outputs": [
    {
     "name": "stdout",
     "output_type": "stream",
     "text": [
      "['Great', 'place', 'visit', 'historical', 'feel', 'exploration', 'Colours', 'winter', 'generally', 'dull', 'good', 'cultural', 'heritage', 'site']\n",
      "['O', 'O', 'O', 'B-Impression', 'O', 'O', 'O', 'O', 'O', 'O', 'O', 'O', 'O', 'O']\n"
     ]
    }
   ],
   "source": [
    "print(data['token'][0])\n",
    "print(data['label'][0])"
   ]
  },
  {
   "cell_type": "code",
   "execution_count": 17,
   "metadata": {},
   "outputs": [
    {
     "name": "stdout",
     "output_type": "stream",
     "text": [
      "14\n",
      "14\n"
     ]
    }
   ],
   "source": [
    "print(len(data['token'][0]))\n",
    "print(len(data['label'][0]))"
   ]
  },
  {
   "cell_type": "code",
   "execution_count": 18,
   "metadata": {},
   "outputs": [
    {
     "name": "stdout",
     "output_type": "stream",
     "text": [
      "Great place to visit for the historical feel and exploration. Colours in the winter are generally dull, but was a good cultural heritage site.\n"
     ]
    }
   ],
   "source": [
    "print(data['review'][0])"
   ]
  },
  {
   "cell_type": "code",
   "execution_count": 19,
   "metadata": {},
   "outputs": [
    {
     "name": "stdout",
     "output_type": "stream",
     "text": [
      "['Great', 'place', 'visit', 'historical', 'feel', 'exploration', 'Colours', 'winter', 'generally', 'dull', 'good', 'cultural', 'heritage', 'site']\n"
     ]
    }
   ],
   "source": [
    "print(data['token'][0])"
   ]
  },
  {
   "cell_type": "code",
   "execution_count": 20,
   "metadata": {},
   "outputs": [
    {
     "name": "stdout",
     "output_type": "stream",
     "text": [
      "A beautiful palace, ine of the nicest in Seoul. There are many events and weddings going on on premise with traditional clothing.\n"
     ]
    }
   ],
   "source": [
    "print(data['review'][1])"
   ]
  },
  {
   "cell_type": "code",
   "execution_count": 21,
   "metadata": {},
   "outputs": [
    {
     "name": "stdout",
     "output_type": "stream",
     "text": [
      "['beautiful', 'palace', 'ine', 'nicest', 'Seoul', 'many', 'events', 'weddings', 'going', 'premise', 'traditional', 'clothing']\n"
     ]
    }
   ],
   "source": [
    "print(data['token'][1])"
   ]
  },
  {
   "cell_type": "code",
   "execution_count": 22,
   "metadata": {},
   "outputs": [
    {
     "data": {
      "text/plain": [
       "0       [O, O, O, B-Impression, O, O, O, O, O, O, O, O...\n",
       "1       [B-Impression, O, O, O, O, O, O, O, O, O, B-Im...\n",
       "2                             [O, O, O, O, O, O, O, O, O]\n",
       "3       [O, O, O, O, O, O, O, O, O, O, O, O, B-Impress...\n",
       "4       [O, O, O, O, O, O, O, O, O, O, O, O, O, O, O, ...\n",
       "                              ...                        \n",
       "4446    [B-Impression, O, B-Impression, O, O, O, O, O,...\n",
       "4447    [O, O, O, O, O, O, O, O, O, O, O, O, B-Impress...\n",
       "4448    [O, O, O, O, O, O, O, B-Impression, O, O, O, O...\n",
       "4449               [O, O, O, O, O, O, O, O, B-Cost, O, O]\n",
       "4450    [O, B-Impression, O, O, O, O, O, O, O, B-Impre...\n",
       "Name: label, Length: 4451, dtype: object"
      ]
     },
     "execution_count": 22,
     "metadata": {},
     "output_type": "execute_result"
    }
   ],
   "source": [
    "data['label']"
   ]
  },
  {
   "cell_type": "code",
   "execution_count": 23,
   "metadata": {},
   "outputs": [
    {
     "data": {
      "text/html": [
       "<div>\n",
       "<style scoped>\n",
       "    .dataframe tbody tr th:only-of-type {\n",
       "        vertical-align: middle;\n",
       "    }\n",
       "\n",
       "    .dataframe tbody tr th {\n",
       "        vertical-align: top;\n",
       "    }\n",
       "\n",
       "    .dataframe thead th {\n",
       "        text-align: right;\n",
       "    }\n",
       "</style>\n",
       "<table border=\"1\" class=\"dataframe\">\n",
       "  <thead>\n",
       "    <tr style=\"text-align: right;\">\n",
       "      <th></th>\n",
       "      <th>review_num</th>\n",
       "      <th>id</th>\n",
       "      <th>user</th>\n",
       "      <th>star</th>\n",
       "      <th>month</th>\n",
       "      <th>review</th>\n",
       "      <th>impression</th>\n",
       "      <th>mood</th>\n",
       "      <th>cost</th>\n",
       "      <th>token</th>\n",
       "      <th>label</th>\n",
       "    </tr>\n",
       "  </thead>\n",
       "  <tbody>\n",
       "    <tr>\n",
       "      <th>0</th>\n",
       "      <td>2216</td>\n",
       "      <td>320359</td>\n",
       "      <td>WandeReen</td>\n",
       "      <td>30</td>\n",
       "      <td>February</td>\n",
       "      <td>Great place to visit for the historical feel a...</td>\n",
       "      <td>NaN</td>\n",
       "      <td>NaN</td>\n",
       "      <td>NaN</td>\n",
       "      <td>[Great, place, visit, historical, feel, explor...</td>\n",
       "      <td>[O, O, O, B-Impression, O, O, O, O, O, O, O, O...</td>\n",
       "    </tr>\n",
       "    <tr>\n",
       "      <th>1</th>\n",
       "      <td>2234</td>\n",
       "      <td>320359</td>\n",
       "      <td>Itay V</td>\n",
       "      <td>40</td>\n",
       "      <td>November</td>\n",
       "      <td>A beautiful palace, ine of the nicest in Seoul...</td>\n",
       "      <td>NaN</td>\n",
       "      <td>NaN</td>\n",
       "      <td>NaN</td>\n",
       "      <td>[beautiful, palace, ine, nicest, Seoul, many, ...</td>\n",
       "      <td>[B-Impression, O, O, O, O, O, O, O, O, O, B-Im...</td>\n",
       "    </tr>\n",
       "    <tr>\n",
       "      <th>2</th>\n",
       "      <td>2233</td>\n",
       "      <td>320359</td>\n",
       "      <td>Huei W</td>\n",
       "      <td>40</td>\n",
       "      <td>November</td>\n",
       "      <td>Secret garden for the Palace is totally recomm...</td>\n",
       "      <td>NaN</td>\n",
       "      <td>NaN</td>\n",
       "      <td>NaN</td>\n",
       "      <td>[Secret, garden, Palace, totally, recommended,...</td>\n",
       "      <td>[O, O, O, O, O, O, O, O, O]</td>\n",
       "    </tr>\n",
       "    <tr>\n",
       "      <th>3</th>\n",
       "      <td>2231</td>\n",
       "      <td>320359</td>\n",
       "      <td>Exceeding_Joy</td>\n",
       "      <td>40</td>\n",
       "      <td>October</td>\n",
       "      <td>This tour includes a guided tour of the palace...</td>\n",
       "      <td>NaN</td>\n",
       "      <td>NaN</td>\n",
       "      <td>NaN</td>\n",
       "      <td>[tour, includes, guided, tour, palace, grounds...</td>\n",
       "      <td>[O, O, O, O, O, O, O, O, O, O, O, O, B-Impress...</td>\n",
       "    </tr>\n",
       "    <tr>\n",
       "      <th>4</th>\n",
       "      <td>2070</td>\n",
       "      <td>320359</td>\n",
       "      <td>Ian K</td>\n",
       "      <td>40</td>\n",
       "      <td>October</td>\n",
       "      <td>Like Gyeongbokgung Palace, my wife and I been ...</td>\n",
       "      <td>NaN</td>\n",
       "      <td>NaN</td>\n",
       "      <td>NaN</td>\n",
       "      <td>[Like, Gyeongbokgung, Palace, wife, day, Chang...</td>\n",
       "      <td>[O, O, O, O, O, O, O, O, O, O, O, O, O, O, O, ...</td>\n",
       "    </tr>\n",
       "  </tbody>\n",
       "</table>\n",
       "</div>"
      ],
      "text/plain": [
       "   review_num      id           user  star      month  \\\n",
       "0        2216  320359      WandeReen    30   February   \n",
       "1        2234  320359         Itay V    40   November   \n",
       "2        2233  320359         Huei W    40   November   \n",
       "3        2231  320359  Exceeding_Joy    40    October   \n",
       "4        2070  320359          Ian K    40    October   \n",
       "\n",
       "                                              review  impression  mood  cost  \\\n",
       "0  Great place to visit for the historical feel a...         NaN   NaN   NaN   \n",
       "1  A beautiful palace, ine of the nicest in Seoul...         NaN   NaN   NaN   \n",
       "2  Secret garden for the Palace is totally recomm...         NaN   NaN   NaN   \n",
       "3  This tour includes a guided tour of the palace...         NaN   NaN   NaN   \n",
       "4  Like Gyeongbokgung Palace, my wife and I been ...         NaN   NaN   NaN   \n",
       "\n",
       "                                               token  \\\n",
       "0  [Great, place, visit, historical, feel, explor...   \n",
       "1  [beautiful, palace, ine, nicest, Seoul, many, ...   \n",
       "2  [Secret, garden, Palace, totally, recommended,...   \n",
       "3  [tour, includes, guided, tour, palace, grounds...   \n",
       "4  [Like, Gyeongbokgung, Palace, wife, day, Chang...   \n",
       "\n",
       "                                               label  \n",
       "0  [O, O, O, B-Impression, O, O, O, O, O, O, O, O...  \n",
       "1  [B-Impression, O, O, O, O, O, O, O, O, O, B-Im...  \n",
       "2                        [O, O, O, O, O, O, O, O, O]  \n",
       "3  [O, O, O, O, O, O, O, O, O, O, O, O, B-Impress...  \n",
       "4  [O, O, O, O, O, O, O, O, O, O, O, O, O, O, O, ...  "
      ]
     },
     "execution_count": 23,
     "metadata": {},
     "output_type": "execute_result"
    }
   ],
   "source": [
    "data.head()"
   ]
  },
  {
   "cell_type": "code",
   "execution_count": 24,
   "metadata": {},
   "outputs": [
    {
     "name": "stdout",
     "output_type": "stream",
     "text": [
      "샘플의 최대 길이 : 616\n",
      "샘플의 평균 길이 : 36.555156\n"
     ]
    },
    {
     "data": {
      "image/png": "[encoded data removed]",
      "text/plain": [
       "<Figure size 432x288 with 1 Axes>"
      ]
     },
     "metadata": {
      "needs_background": "light"
     },
     "output_type": "display_data"
    }
   ],
   "source": [
    "import matplotlib.pyplot as plt\n",
    "\n",
    "print('샘플의 최대 길이 : %d' % max(len(l) for l in data['token']))\n",
    "print('샘플의 평균 길이 : %f' % (sum(map(len, data['token']))/len(data['token'])))\n",
    "plt.hist([len(s) for s in data['token']], bins=50)\n",
    "plt.xlabel('length of samples')\n",
    "plt.ylabel('number of samples')\n",
    "plt.show()"
   ]
  },
  {
   "cell_type": "code",
   "execution_count": 25,
   "metadata": {},
   "outputs": [
    {
     "name": "stdout",
     "output_type": "stream",
     "text": [
      "Number of total samples : 4451\n",
      "Number of samples less than 100 : 4255\n"
     ]
    }
   ],
   "source": [
    "print(\"Number of total samples :\", data.shape[0])\n",
    "print(\"Number of samples less than 100 :\",sum([1 for i in data['token'] if len(i) <= 100]))"
   ]
  },
  {
   "cell_type": "code",
   "execution_count": 26,
   "metadata": {},
   "outputs": [],
   "source": [
    "from tensorflow.keras.preprocessing.text import Tokenizer\n",
    "\n",
    "max_words = 4000\n",
    "text_tokenizer = Tokenizer(num_words = max_words, oov_token='OOV')\n",
    "text_tokenizer.fit_on_texts(data['token'])\n",
    "\n",
    "label_tokenizer = Tokenizer()\n",
    "label_tokenizer.fit_on_texts(data['label'])\n",
    "\n",
    "vocab_size = max_words \n",
    "tag_size = len(label_tokenizer.word_index) + 1"
   ]
  },
  {
   "cell_type": "code",
   "execution_count": 27,
   "metadata": {},
   "outputs": [],
   "source": [
    "# 정수 인코딩\n",
    "X_train = text_tokenizer.texts_to_sequences(data['token'])\n",
    "y_train = label_tokenizer.texts_to_sequences(data['label'])"
   ]
  },
  {
   "cell_type": "code",
   "execution_count": 28,
   "metadata": {},
   "outputs": [
    {
     "data": {
      "text/plain": [
       "{'o': 1, 'b-impression': 2, 'b-cost': 3, 'b-mood': 4}"
      ]
     },
     "execution_count": 28,
     "metadata": {},
     "output_type": "execute_result"
    }
   ],
   "source": [
    "label_tokenizer.word_index"
   ]
  },
  {
   "cell_type": "code",
   "execution_count": 29,
   "metadata": {},
   "outputs": [
    {
     "name": "stdout",
     "output_type": "stream",
     "text": [
      "[9, 3, 4, 339, 195, 2665, 945, 229, 1258, 2927, 8, 413, 893, 230]\n",
      "[1, 1, 1, 2, 1, 1, 1, 1, 1, 1, 1, 1, 1, 1]\n"
     ]
    }
   ],
   "source": [
    "print(X_train[0])\n",
    "print(y_train[0])"
   ]
  },
  {
   "cell_type": "code",
   "execution_count": 30,
   "metadata": {},
   "outputs": [
    {
     "name": "stdout",
     "output_type": "stream",
     "text": [
      "기존 문장 : ['Great', 'place', 'visit', 'historical', 'feel', 'exploration', 'Colours', 'winter', 'generally', 'dull', 'good', 'cultural', 'heritage', 'site']\n",
      "빈도수가 낮은 단어가 OOV 처리된 문장 : ['great', 'place', 'visit', 'historical', 'feel', 'exploration', 'colours', 'winter', 'generally', 'dull', 'good', 'cultural', 'heritage', 'site']\n"
     ]
    }
   ],
   "source": [
    "index_to_text = text_tokenizer.index_word\n",
    "index_to_label = label_tokenizer.index_word\n",
    "\n",
    "decoded = []\n",
    "for index in X_train[0] : # 첫번째 샘플 안의 인덱스들에 대해서\n",
    "    decoded.append(index_to_text[index]) # 다시 단어로 변환\n",
    "\n",
    "print('기존 문장 : {}'.format(data['token'][0]))\n",
    "print('빈도수가 낮은 단어가 OOV 처리된 문장 : {}'.format(decoded))"
   ]
  },
  {
   "cell_type": "code",
   "execution_count": 31,
   "metadata": {},
   "outputs": [],
   "source": [
    "from tensorflow.keras.preprocessing.sequence import pad_sequences\n",
    "\n",
    "max_len = 100\n",
    "\n",
    "X_train = pad_sequences(X_train, padding='post', maxlen=max_len)\n",
    "y_train = pad_sequences(y_train, padding='post', maxlen=max_len)"
   ]
  },
  {
   "cell_type": "code",
   "execution_count": null,
   "metadata": {},
   "outputs": [],
   "source": []
  },
  {
   "cell_type": "code",
   "execution_count": 32,
   "metadata": {},
   "outputs": [],
   "source": [
    "from sklearn.model_selection import train_test_split\n",
    "\n",
    "X_train, X_test, y_train, y_test = train_test_split(X_train, y_train, test_size = 0.2, random_state=777)"
   ]
  },
  {
   "cell_type": "code",
   "execution_count": 33,
   "metadata": {},
   "outputs": [],
   "source": [
    "from tensorflow.keras.utils import to_categorical\n",
    "\n",
    "y_train = to_categorical(y_train, num_classes=tag_size)\n",
    "y_test = to_categorical(y_test, num_classes=tag_size)\n"
   ]
  },
  {
   "cell_type": "code",
   "execution_count": 34,
   "metadata": {},
   "outputs": [
    {
     "name": "stdout",
     "output_type": "stream",
     "text": [
      "훈련 샘플 문장의 크기 : (3560, 100)\n",
      "훈련 샘플 레이블의 크기 : (3560, 100, 5)\n",
      "테스트 샘플 문장의 크기 : (891, 100)\n",
      "테스트 샘플 레이블의 크기 : (891, 100, 5)\n"
     ]
    }
   ],
   "source": [
    "print('훈련 샘플 문장의 크기 : {}'.format(X_train.shape))\n",
    "print('훈련 샘플 레이블의 크기 : {}'.format(y_train.shape))\n",
    "print('테스트 샘플 문장의 크기 : {}'.format(X_test.shape))\n",
    "print('테스트 샘플 레이블의 크기 : {}'.format(y_test.shape))"
   ]
  },
  {
   "cell_type": "code",
   "execution_count": 35,
   "metadata": {},
   "outputs": [
    {
     "name": "stdout",
     "output_type": "stream",
     "text": [
      "Epoch 1/50\n",
      "28/28 [==============================] - 2s 84ms/step - loss: 0.2188 - accuracy: 0.3272 - val_loss: 0.0365 - val_accuracy: 0.3254\n",
      "Epoch 2/50\n",
      "28/28 [==============================] - 1s 35ms/step - loss: 0.0198 - accuracy: 0.3377 - val_loss: 0.0117 - val_accuracy: 0.3310\n",
      "Epoch 3/50\n",
      "28/28 [==============================] - 1s 36ms/step - loss: 0.0083 - accuracy: 0.3405 - val_loss: 0.0066 - val_accuracy: 0.3315\n",
      "Epoch 4/50\n",
      "28/28 [==============================] - 1s 34ms/step - loss: 0.0056 - accuracy: 0.3409 - val_loss: 0.0059 - val_accuracy: 0.3317\n",
      "Epoch 5/50\n",
      "28/28 [==============================] - 1s 34ms/step - loss: 0.0053 - accuracy: 0.3409 - val_loss: 0.0057 - val_accuracy: 0.3319\n",
      "Epoch 6/50\n",
      "28/28 [==============================] - 1s 34ms/step - loss: 0.0056 - accuracy: 0.3409 - val_loss: 0.0061 - val_accuracy: 0.3316\n",
      "Epoch 7/50\n",
      "28/28 [==============================] - 1s 33ms/step - loss: 0.0054 - accuracy: 0.3409 - val_loss: 0.0060 - val_accuracy: 0.3318\n",
      "Epoch 8/50\n",
      "28/28 [==============================] - 1s 33ms/step - loss: 0.0051 - accuracy: 0.3410 - val_loss: 0.0059 - val_accuracy: 0.3318\n",
      "Epoch 9/50\n",
      "28/28 [==============================] - 1s 32ms/step - loss: 0.0049 - accuracy: 0.3410 - val_loss: 0.0058 - val_accuracy: 0.3316\n",
      "Epoch 10/50\n",
      "28/28 [==============================] - 1s 33ms/step - loss: 0.0046 - accuracy: 0.3411 - val_loss: 0.0062 - val_accuracy: 0.3318\n",
      "Epoch 11/50\n",
      "28/28 [==============================] - 1s 33ms/step - loss: 0.0040 - accuracy: 0.3413 - val_loss: 0.0065 - val_accuracy: 0.3317\n",
      "Epoch 12/50\n",
      "28/28 [==============================] - 1s 33ms/step - loss: 0.0036 - accuracy: 0.3414 - val_loss: 0.0063 - val_accuracy: 0.3316\n",
      "Epoch 13/50\n",
      "28/28 [==============================] - 1s 33ms/step - loss: 0.0034 - accuracy: 0.3415 - val_loss: 0.0065 - val_accuracy: 0.3315\n",
      "Epoch 14/50\n",
      "28/28 [==============================] - 1s 32ms/step - loss: 0.0031 - accuracy: 0.3417 - val_loss: 0.0071 - val_accuracy: 0.3313\n",
      "Epoch 15/50\n",
      "28/28 [==============================] - 1s 32ms/step - loss: 0.0029 - accuracy: 0.3417 - val_loss: 0.0070 - val_accuracy: 0.3314\n",
      "Epoch 16/50\n",
      "28/28 [==============================] - 1s 33ms/step - loss: 0.0026 - accuracy: 0.3418 - val_loss: 0.0075 - val_accuracy: 0.3318\n",
      "Epoch 17/50\n",
      "28/28 [==============================] - 1s 33ms/step - loss: 0.0024 - accuracy: 0.3419 - val_loss: 0.0077 - val_accuracy: 0.3316\n",
      "Epoch 18/50\n",
      "28/28 [==============================] - 1s 33ms/step - loss: 0.0022 - accuracy: 0.3421 - val_loss: 0.0080 - val_accuracy: 0.3314\n",
      "Epoch 19/50\n",
      "28/28 [==============================] - 1s 33ms/step - loss: 0.0021 - accuracy: 0.3420 - val_loss: 0.0082 - val_accuracy: 0.3313\n",
      "Epoch 20/50\n",
      "28/28 [==============================] - 1s 32ms/step - loss: 0.0019 - accuracy: 0.3422 - val_loss: 0.0087 - val_accuracy: 0.3316\n",
      "Epoch 21/50\n",
      "28/28 [==============================] - 1s 33ms/step - loss: 0.0018 - accuracy: 0.3422 - val_loss: 0.0085 - val_accuracy: 0.3314\n",
      "Epoch 22/50\n",
      "28/28 [==============================] - 1s 33ms/step - loss: 0.0017 - accuracy: 0.3422 - val_loss: 0.0089 - val_accuracy: 0.3314\n",
      "Epoch 23/50\n",
      "28/28 [==============================] - 1s 34ms/step - loss: 0.0017 - accuracy: 0.3422 - val_loss: 0.0091 - val_accuracy: 0.3315\n",
      "Epoch 24/50\n",
      "28/28 [==============================] - 1s 34ms/step - loss: 0.0017 - accuracy: 0.3422 - val_loss: 0.0092 - val_accuracy: 0.3315\n",
      "Epoch 25/50\n",
      "28/28 [==============================] - 1s 34ms/step - loss: 0.0016 - accuracy: 0.3423 - val_loss: 0.0093 - val_accuracy: 0.3315\n",
      "Epoch 26/50\n",
      "28/28 [==============================] - 1s 34ms/step - loss: 0.0015 - accuracy: 0.3423 - val_loss: 0.0094 - val_accuracy: 0.3315\n",
      "Epoch 27/50\n",
      "28/28 [==============================] - 1s 34ms/step - loss: 0.0015 - accuracy: 0.3423 - val_loss: 0.0090 - val_accuracy: 0.3315\n",
      "Epoch 28/50\n",
      "28/28 [==============================] - 1s 34ms/step - loss: 0.0015 - accuracy: 0.3423 - val_loss: 0.0092 - val_accuracy: 0.3315\n",
      "Epoch 29/50\n",
      "28/28 [==============================] - 1s 34ms/step - loss: 0.0016 - accuracy: 0.3422 - val_loss: 0.0094 - val_accuracy: 0.3317\n",
      "Epoch 30/50\n",
      "28/28 [==============================] - 1s 34ms/step - loss: 0.0020 - accuracy: 0.3421 - val_loss: 0.0094 - val_accuracy: 0.3314\n",
      "Epoch 31/50\n",
      "28/28 [==============================] - 1s 34ms/step - loss: 0.0024 - accuracy: 0.3420 - val_loss: 0.0089 - val_accuracy: 0.3314\n",
      "Epoch 32/50\n",
      "28/28 [==============================] - 1s 34ms/step - loss: 0.0024 - accuracy: 0.3420 - val_loss: 0.0094 - val_accuracy: 0.3313\n",
      "Epoch 33/50\n",
      "28/28 [==============================] - 1s 34ms/step - loss: 0.0028 - accuracy: 0.3419 - val_loss: 0.0095 - val_accuracy: 0.3312\n",
      "Epoch 34/50\n",
      "28/28 [==============================] - 1s 34ms/step - loss: 0.0027 - accuracy: 0.3418 - val_loss: 0.0098 - val_accuracy: 0.3316\n",
      "Epoch 35/50\n",
      "28/28 [==============================] - 1s 34ms/step - loss: 0.0026 - accuracy: 0.3418 - val_loss: 0.0099 - val_accuracy: 0.3311\n",
      "Epoch 36/50\n",
      "28/28 [==============================] - 1s 34ms/step - loss: 0.0023 - accuracy: 0.3419 - val_loss: 0.0095 - val_accuracy: 0.3315\n",
      "Epoch 37/50\n",
      "28/28 [==============================] - 1s 34ms/step - loss: 0.0022 - accuracy: 0.3420 - val_loss: 0.0101 - val_accuracy: 0.3314\n",
      "Epoch 38/50\n",
      "28/28 [==============================] - 1s 34ms/step - loss: 0.0021 - accuracy: 0.3421 - val_loss: 0.0102 - val_accuracy: 0.3316\n",
      "Epoch 39/50\n",
      "28/28 [==============================] - 1s 34ms/step - loss: 0.0020 - accuracy: 0.3421 - val_loss: 0.0098 - val_accuracy: 0.3314\n",
      "Epoch 40/50\n",
      "28/28 [==============================] - 1s 34ms/step - loss: 0.0019 - accuracy: 0.3421 - val_loss: 0.0103 - val_accuracy: 0.3315\n",
      "Epoch 41/50\n",
      "28/28 [==============================] - 1s 33ms/step - loss: 0.0020 - accuracy: 0.3421 - val_loss: 0.0097 - val_accuracy: 0.3313\n",
      "Epoch 42/50\n",
      "28/28 [==============================] - 1s 33ms/step - loss: 0.0019 - accuracy: 0.3421 - val_loss: 0.0104 - val_accuracy: 0.3311\n",
      "Epoch 43/50\n",
      "28/28 [==============================] - 1s 33ms/step - loss: 0.0019 - accuracy: 0.3421 - val_loss: 0.0103 - val_accuracy: 0.3313\n",
      "Epoch 44/50\n",
      "28/28 [==============================] - 1s 33ms/step - loss: 0.0019 - accuracy: 0.3421 - val_loss: 0.0093 - val_accuracy: 0.3315\n",
      "Epoch 45/50\n",
      "28/28 [==============================] - 1s 33ms/step - loss: 0.0018 - accuracy: 0.3421 - val_loss: 0.0102 - val_accuracy: 0.3315\n",
      "Epoch 46/50\n",
      "28/28 [==============================] - 1s 33ms/step - loss: 0.0017 - accuracy: 0.3422 - val_loss: 0.0099 - val_accuracy: 0.3316\n",
      "Epoch 47/50\n",
      "28/28 [==============================] - 1s 33ms/step - loss: 0.0016 - accuracy: 0.3422 - val_loss: 0.0100 - val_accuracy: 0.3315\n",
      "Epoch 48/50\n",
      "28/28 [==============================] - 1s 34ms/step - loss: 0.0017 - accuracy: 0.3422 - val_loss: 0.0107 - val_accuracy: 0.3318\n",
      "Epoch 49/50\n",
      "28/28 [==============================] - 1s 34ms/step - loss: 0.0016 - accuracy: 0.3422 - val_loss: 0.0106 - val_accuracy: 0.3316\n",
      "Epoch 50/50\n",
      "28/28 [==============================] - 1s 34ms/step - loss: 0.0016 - accuracy: 0.3422 - val_loss: 0.0112 - val_accuracy: 0.3315\n"
     ]
    },
    {
     "data": {
      "text/plain": [
       "<tensorflow.python.keras.callbacks.History at 0x1a97acc9148>"
      ]
     },
     "execution_count": 35,
     "metadata": {},
     "output_type": "execute_result"
    }
   ],
   "source": [
    "from keras.models import Sequential\n",
    "from keras.layers import Dense, Embedding, LSTM, Bidirectional, TimeDistributed\n",
    "from keras.optimizers import Adam, SGD\n",
    "\n",
    "model = Sequential()\n",
    "model.add(Embedding(input_dim=vocab_size, output_dim=128, input_length=max_len, mask_zero=True))\n",
    "model.add(Bidirectional(LSTM(256, return_sequences=True)))\n",
    "model.add(TimeDistributed(Dense(tag_size, activation='softmax')))\n",
    "\n",
    "model.compile(loss='categorical_crossentropy', optimizer=Adam(lr = 0.05), metrics=['accuracy'])\n",
    "model.fit(X_train, y_train, batch_size = 128, epochs = 50,  validation_data=(X_test, y_test))"
   ]
  },
  {
   "cell_type": "code",
   "execution_count": 36,
   "metadata": {},
   "outputs": [
    {
     "name": "stdout",
     "output_type": "stream",
     "text": [
      "28/28 [==============================] - 0s 7ms/step - loss: 0.0112 - accuracy: 0.3315\n",
      "\n",
      " 테스트 정확도: 0.3315\n"
     ]
    }
   ],
   "source": [
    "print(\"\\n 테스트 정확도: %.4f\" % (model.evaluate(X_test, y_test)[1]))"
   ]
  },
  {
   "cell_type": "code",
   "execution_count": 46,
   "metadata": {},
   "outputs": [
    {
     "name": "stdout",
     "output_type": "stream",
     "text": [
      "단어             |실제값  |예측값\n",
      "-----------------------------------\n",
      "accuracy :  1.0\n",
      "단어             |실제값  |예측값\n",
      "-----------------------------------\n",
      "national         : O       O\n",
      "cemetery         : O       O\n",
      "huge             : B-MOOD  B-MOOD\n",
      "OOV              : O       O\n",
      "land             : O       O\n",
      "middle           : O       O\n",
      "city             : O       O\n",
      "well             : O       O\n",
      "kept             : O       O\n",
      "impressive       : B-IMPRESSION B-IMPRESSION\n",
      "memorial         : B-IMPRESSION B-IMPRESSION\n",
      "OOV              : O       O\n",
      "missing          : O       O\n",
      "soldiers         : O       O\n",
      "along            : O       O\n",
      "OOV              : O       O\n",
      "OOV              : O       O\n",
      "graves           : O       O\n",
      "cemetery         : O       O\n",
      "includes         : O       O\n",
      "museum           : O       O\n",
      "photo            : O       O\n",
      "exhibits         : O       O\n",
      "snack            : O       O\n",
      "bar              : O       O\n",
      "convenience      : O       O\n",
      "store            : O       O\n",
      "picnic           : O       O\n",
      "tables           : O       O\n",
      "outdoor          : O       O\n",
      "performances     : O       O\n",
      "great            : O       O\n",
      "free             : B-COST  B-COST\n",
      "gathering        : O       O\n",
      "place            : O       O\n",
      "families         : O       O\n",
      "couples          : O       O\n",
      "particularly     : O       O\n",
      "current          : O       O\n",
      "cherry           : O       O\n",
      "blossom          : O       O\n",
      "season           : O       O\n",
      "subway           : O       O\n",
      "dongjak          : O       O\n",
      "station          : O       O\n",
      "exit             : O       O\n",
      "8                : O       O\n",
      ";                : O       O\n",
      "parking          : O       O\n",
      "lot              : O       O\n",
      "too              : O       O\n",
      "accuracy :  1.0\n",
      "단어             |실제값  |예측값\n",
      "-----------------------------------\n",
      "accuracy :  1.0\n",
      "단어             |실제값  |예측값\n",
      "-----------------------------------\n",
      "accuracy :  1.0\n",
      "단어             |실제값  |예측값\n",
      "-----------------------------------\n",
      "accuracy :  1.0\n",
      "단어             |실제값  |예측값\n",
      "-----------------------------------\n",
      "accuracy :  1.0\n",
      "단어             |실제값  |예측값\n",
      "-----------------------------------\n",
      "accuracy :  1.0\n",
      "단어             |실제값  |예측값\n",
      "-----------------------------------\n",
      "accuracy :  1.0\n",
      "단어             |실제값  |예측값\n",
      "-----------------------------------\n",
      "accuracy :  1.0\n",
      "단어             |실제값  |예측값\n",
      "-----------------------------------\n",
      "accuracy :  1.0\n",
      "단어             |실제값  |예측값\n",
      "-----------------------------------\n",
      "accuracy :  1.0\n",
      "단어             |실제값  |예측값\n",
      "-----------------------------------\n",
      "accuracy :  1.0\n",
      "단어             |실제값  |예측값\n",
      "-----------------------------------\n",
      "accuracy :  1.0\n",
      "단어             |실제값  |예측값\n",
      "-----------------------------------\n",
      "accuracy :  1.0\n",
      "단어             |실제값  |예측값\n",
      "-----------------------------------\n",
      "accuracy :  1.0\n",
      "단어             |실제값  |예측값\n",
      "-----------------------------------\n",
      "accuracy :  1.0\n",
      "단어             |실제값  |예측값\n",
      "-----------------------------------\n",
      "accuracy :  1.0\n",
      "단어             |실제값  |예측값\n",
      "-----------------------------------\n",
      "accuracy :  1.0\n",
      "단어             |실제값  |예측값\n",
      "-----------------------------------\n",
      "accuracy :  1.0\n",
      "단어             |실제값  |예측값\n",
      "-----------------------------------\n",
      "accuracy :  0.9981718464351006\n",
      "단어             |실제값  |예측값\n",
      "-----------------------------------\n",
      "accuracy :  0.9982394366197183\n",
      "단어             |실제값  |예측값\n",
      "-----------------------------------\n",
      "accuracy :  0.9984202211690363\n",
      "단어             |실제값  |예측값\n",
      "-----------------------------------\n",
      "accuracy :  0.9970588235294118\n",
      "단어             |실제값  |예측값\n",
      "-----------------------------------\n",
      "accuracy :  0.9971671388101983\n",
      "단어             |실제값  |예측값\n",
      "-----------------------------------\n",
      "accuracy :  0.9972144846796658\n",
      "단어             |실제값  |예측값\n",
      "-----------------------------------\n",
      "accuracy :  0.9973579920739762\n",
      "단어             |실제값  |예측값\n",
      "-----------------------------------\n",
      "accuracy :  0.9974093264248705\n",
      "단어             |실제값  |예측값\n",
      "-----------------------------------\n",
      "accuracy :  0.996415770609319\n",
      "단어             |실제값  |예측값\n",
      "-----------------------------------\n",
      "accuracy :  0.9965792474344356\n",
      "단어             |실제값  |예측값\n",
      "-----------------------------------\n",
      "accuracy :  0.9947257383966245\n",
      "단어             |실제값  |예측값\n",
      "-----------------------------------\n",
      "accuracy :  0.9947970863683663\n",
      "단어             |실제값  |예측값\n",
      "-----------------------------------\n",
      "accuracy :  0.9938900203665988\n",
      "단어             |실제값  |예측값\n",
      "-----------------------------------\n",
      "accuracy :  0.9944547134935305\n",
      "단어             |실제값  |예측값\n",
      "-----------------------------------\n",
      "accuracy :  0.9945054945054945\n",
      "단어             |실제값  |예측값\n",
      "-----------------------------------\n",
      "accuracy :  0.9936708860759493\n",
      "단어             |실제값  |예측값\n",
      "-----------------------------------\n",
      "accuracy :  0.9937555753791257\n",
      "단어             |실제값  |예측값\n",
      "-----------------------------------\n",
      "accuracy :  0.9938704028021016\n",
      "단어             |실제값  |예측값\n",
      "-----------------------------------\n",
      "accuracy :  0.9940425531914894\n",
      "단어             |실제값  |예측값\n",
      "-----------------------------------\n",
      "accuracy :  0.9942244224422442\n",
      "단어             |실제값  |예측값\n",
      "-----------------------------------\n",
      "accuracy :  0.994408945686901\n",
      "단어             |실제값  |예측값\n",
      "-----------------------------------\n",
      "accuracy :  0.9945269741985927\n",
      "단어             |실제값  |예측값\n",
      "-----------------------------------\n",
      "accuracy :  0.994577846630519\n",
      "단어             |실제값  |예측값\n",
      "-----------------------------------\n",
      "accuracy :  0.9940074906367041\n",
      "단어             |실제값  |예측값\n",
      "-----------------------------------\n",
      "accuracy :  0.9940564635958395\n",
      "단어             |실제값  |예측값\n",
      "-----------------------------------\n",
      "accuracy :  0.9942321557317952\n",
      "단어             |실제값  |예측값\n",
      "-----------------------------------\n",
      "accuracy :  0.9929577464788732\n",
      "단어             |실제값  |예측값\n",
      "-----------------------------------\n",
      "accuracy :  0.9930458970792768\n",
      "단어             |실제값  |예측값\n",
      "-----------------------------------\n",
      "accuracy :  0.9933020763563295\n",
      "단어             |실제값  |예측값\n",
      "-----------------------------------\n",
      "accuracy :  0.99340804218853\n",
      "단어             |실제값  |예측값\n",
      "-----------------------------------\n",
      "accuracy :  0.9934768427919113\n",
      "단어             |실제값  |예측값\n",
      "-----------------------------------\n",
      "accuracy :  0.9935442220787605\n",
      "단어             |실제값  |예측값\n",
      "-----------------------------------\n",
      "accuracy :  0.9937421777221527\n",
      "단어             |실제값  |예측값\n",
      "-----------------------------------\n",
      "accuracy :  0.9938042131350682\n",
      "단어             |실제값  |예측값\n",
      "-----------------------------------\n",
      "accuracy :  0.994001199760048\n",
      "단어             |실제값  |예측값\n",
      "-----------------------------------\n",
      "accuracy :  0.9940652818991098\n",
      "단어             |실제값  |예측값\n",
      "-----------------------------------\n",
      "accuracy :  0.994131455399061\n",
      "단어             |실제값  |예측값\n",
      "-----------------------------------\n",
      "accuracy :  0.9944567627494457\n",
      "단어             |실제값  |예측값\n",
      "-----------------------------------\n",
      "accuracy :  0.994544462629569\n",
      "단어             |실제값  |예측값\n",
      "-----------------------------------\n",
      "accuracy :  0.9942468619246861\n",
      "단어             |실제값  |예측값\n",
      "-----------------------------------\n",
      "accuracy :  0.9942975635044065\n",
      "단어             |실제값  |예측값\n",
      "-----------------------------------\n",
      "accuracy :  0.9945786101527846\n",
      "단어             |실제값  |예측값\n",
      "-----------------------------------\n",
      "accuracy :  0.9946498054474708\n",
      "단어             |실제값  |예측값\n",
      "-----------------------------------\n",
      "accuracy :  0.9947842579421526\n",
      "단어             |실제값  |예측값\n",
      "-----------------------------------\n",
      "accuracy :  0.9948598130841122\n",
      "단어             |실제값  |예측값\n",
      "-----------------------------------\n",
      "accuracy :  0.9949074074074075\n",
      "단어             |실제값  |예측값\n",
      "-----------------------------------\n",
      "accuracy :  0.9949725776965265\n",
      "단어             |실제값  |예측값\n",
      "-----------------------------------\n",
      "accuracy :  0.9950361010830325\n",
      "단어             |실제값  |예측값\n",
      "-----------------------------------\n",
      "accuracy :  0.9947391494958352\n",
      "단어             |실제값  |예측값\n",
      "-----------------------------------\n",
      "accuracy :  0.9947894051237516\n",
      "단어             |실제값  |예측값\n",
      "-----------------------------------\n",
      "accuracy :  0.9948186528497409\n",
      "단어             |실제값  |예측값\n",
      "-----------------------------------\n",
      "accuracy :  0.9948761742100769\n",
      "단어             |실제값  |예측값\n",
      "-----------------------------------\n",
      "accuracy :  0.9949130987706656\n",
      "단어             |실제값  |예측값\n",
      "-----------------------------------\n",
      "accuracy :  0.9949388443694643\n",
      "단어             |실제값  |예측값\n",
      "-----------------------------------\n",
      "accuracy :  0.9945629443747386\n",
      "단어             |실제값  |예측값\n",
      "-----------------------------------\n",
      "accuracy :  0.9942363112391931\n",
      "단어             |실제값  |예측값\n",
      "-----------------------------------\n",
      "accuracy :  0.9938775510204082\n",
      "단어             |실제값  |예측값\n",
      "-----------------------------------\n",
      "accuracy :  0.9939148073022313\n"
     ]
    },
    {
     "name": "stdout",
     "output_type": "stream",
     "text": [
      "단어             |실제값  |예측값\n",
      "-----------------------------------\n",
      "accuracy :  0.9939710610932476\n",
      "단어             |실제값  |예측값\n",
      "-----------------------------------\n",
      "accuracy :  0.9940071913703555\n",
      "단어             |실제값  |예측값\n",
      "-----------------------------------\n",
      "accuracy :  0.994140625\n",
      "단어             |실제값  |예측값\n",
      "-----------------------------------\n",
      "accuracy :  0.9942062572421785\n",
      "단어             |실제값  |예측값\n",
      "-----------------------------------\n",
      "accuracy :  0.9942857142857143\n",
      "단어             |실제값  |예측값\n",
      "-----------------------------------\n",
      "accuracy :  0.9943310657596371\n",
      "단어             |실제값  |예측값\n",
      "-----------------------------------\n",
      "accuracy :  0.9943778110944528\n",
      "단어             |실제값  |예측값\n",
      "-----------------------------------\n",
      "accuracy :  0.9944071588366891\n",
      "단어             |실제값  |예측값\n",
      "-----------------------------------\n",
      "accuracy :  0.9944832659065833\n",
      "단어             |실제값  |예측값\n",
      "-----------------------------------\n",
      "accuracy :  0.9945095168374817\n",
      "단어             |실제값  |예측값\n",
      "-----------------------------------\n",
      "accuracy :  0.9945513984743916\n",
      "단어             |실제값  |예측값\n",
      "-----------------------------------\n",
      "accuracy :  0.9942528735632183\n",
      "단어             |실제값  |예측값\n",
      "-----------------------------------\n",
      "accuracy :  0.9939242315939957\n",
      "단어             |실제값  |예측값\n",
      "-----------------------------------\n",
      "accuracy :  0.9939544807965861\n",
      "단어             |실제값  |예측값\n",
      "-----------------------------------\n",
      "accuracy :  0.994032994032994\n",
      "단어             |실제값  |예측값\n",
      "-----------------------------------\n",
      "accuracy :  0.9941298342541437\n",
      "단어             |실제값  |예측값\n",
      "-----------------------------------\n",
      "accuracy :  0.9941740918437286\n",
      "단어             |실제값  |예측값\n",
      "-----------------------------------\n",
      "accuracy :  0.9938837920489296\n",
      "단어             |실제값  |예측값\n",
      "-----------------------------------\n",
      "accuracy :  0.993941433860653\n",
      "단어             |실제값  |예측값\n",
      "-----------------------------------\n",
      "accuracy :  0.9939738868429863\n",
      "단어             |실제값  |예측값\n",
      "-----------------------------------\n",
      "accuracy :  0.9940613658858463\n",
      "단어             |실제값  |예측값\n",
      "-----------------------------------\n",
      "accuracy :  0.9940847847518895\n",
      "단어             |실제값  |예측값\n",
      "-----------------------------------\n",
      "accuracy :  0.9941253263707572\n"
     ]
    }
   ],
   "source": [
    "total = 0\n",
    "count = 0\n",
    "for i in range(100):\n",
    "    #i = 12 # 확인하고 싶은 테스트용 샘플의 인덱스.\n",
    "    y_predicted = model.predict(np.array([X_test[i]])) # 입력한 테스트용 샘플에 대해서 예측 y를 리턴\n",
    "    y_predicted = np.argmax(y_predicted, axis=-1) # 원-핫 인코딩을 다시 정수 인코딩으로 변경함.\n",
    "    true = np.argmax(y_test[i], -1) # 원-핫 인코딩을 다시 정수 인코딩으로 변경함.\n",
    "\n",
    "    print(\"{:15}|{:5}|{}\".format(\"단어\", \"실제값\", \"예측값\"))\n",
    "    print(35 * \"-\")\n",
    "    \n",
    "    for w, t, pred in zip(X_test[i], true, y_predicted[0]):\n",
    "        if w != 0: # PAD값은 제외함.\n",
    "            if i == 1: \n",
    "                print(\"{:17}: {:7} {}\".format(index_to_text[w], index_to_label[t].upper(), index_to_label[pred].upper()))\n",
    "            if index_to_label[t].upper() == index_to_label[pred].upper():\n",
    "                count += 1\n",
    "            total += 1\n",
    "    print(\"accuracy : \", count/total)"
   ]
  },
  {
   "cell_type": "code",
   "execution_count": 47,
   "metadata": {},
   "outputs": [
    {
     "name": "stdout",
     "output_type": "stream",
     "text": [
      "word by word accuracy :  0.9937462450613509\n"
     ]
    }
   ],
   "source": [
    "print(\"word by word accuracy : \", sum(accuracy)/len(accuracy))"
   ]
  },
  {
   "cell_type": "code",
   "execution_count": null,
   "metadata": {},
   "outputs": [],
   "source": []
  }
 ],
 "metadata": {
  "colab": {
   "collapsed_sections": [],
   "name": "LSTM.ipynb",
   "provenance": []
  },
  "kernelspec": {
   "display_name": "Python 3",
   "language": "python",
   "name": "python3"
  },
  "language_info": {
   "codemirror_mode": {
    "name": "ipython",
    "version": 3
   },
   "file_extension": ".py",
   "mimetype": "text/x-python",
   "name": "python",
   "nbconvert_exporter": "python",
   "pygments_lexer": "ipython3",
   "version": "3.7.6"
  }
 },
 "nbformat": 4,
 "nbformat_minor": 1
}
